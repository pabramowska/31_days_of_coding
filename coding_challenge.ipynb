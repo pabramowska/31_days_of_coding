{
 "cells": [
  {
   "cell_type": "markdown",
   "metadata": {},
   "source": [
    "## Day 1 challenge\n",
    "\n",
    "The challenge for day one was to create function lowercase. I decided to try to create it myself instead of using built-in lower() function."
   ]
  },
  {
   "cell_type": "code",
   "execution_count": 1,
   "metadata": {},
   "outputs": [],
   "source": [
    "import string\n",
    "alpha_lower = string.ascii_lowercase\n",
    "alpha_upper = string.ascii_uppercase\n",
    "\n",
    "\n",
    "def lower_case(word):\n",
    "    \n",
    "    alph={upper:lower for upper, lower in zip(alpha_upper,alpha_lower)}\n",
    "    lower_list = [alph[char] if char in alph.keys() else char for char in word]\n",
    "    \n",
    "    return ''.join(lower_list)"
   ]
  },
  {
   "cell_type": "code",
   "execution_count": 2,
   "metadata": {},
   "outputs": [
    {
     "data": {
      "text/plain": [
       "'zadanie'"
      ]
     },
     "execution_count": 2,
     "metadata": {},
     "output_type": "execute_result"
    }
   ],
   "source": [
    "lower_case('ZADANIE')"
   ]
  },
  {
   "cell_type": "markdown",
   "metadata": {},
   "source": [
    "## Day 2 challenge\n",
    "The challenge was to define function switch_case which changes lower case to upper and upper case to lower in string."
   ]
  },
  {
   "cell_type": "code",
   "execution_count": 3,
   "metadata": {},
   "outputs": [],
   "source": [
    "import string\n",
    "\n",
    "\n",
    "def switch_case(word):\n",
    "    \n",
    "    alpha = string.ascii_letters\n",
    "    changed_word=''\n",
    "    \n",
    "    for char in word:\n",
    "        \n",
    "        if char not in alpha:\n",
    "            changed_word += char\n",
    "        elif alpha.index(char) < 26:\n",
    "            changed_word += alpha[alpha.index(char)+26]\n",
    "        else:\n",
    "            changed_word += alpha[alpha.index(char)-26]\n",
    "    \n",
    "    return changed_word\n",
    "            "
   ]
  },
  {
   "cell_type": "code",
   "execution_count": 4,
   "metadata": {},
   "outputs": [
    {
     "data": {
      "text/plain": [
       "'This is VIP only!'"
      ]
     },
     "execution_count": 4,
     "metadata": {},
     "output_type": "execute_result"
    }
   ],
   "source": [
    "switch_case('tHIS IS vip ONLY!')"
   ]
  },
  {
   "cell_type": "markdown",
   "metadata": {},
   "source": [
    "## Day 3 challenge\n",
    "\n",
    "Today challenge was to create function reverse_string() which will return reversed string."
   ]
  },
  {
   "cell_type": "code",
   "execution_count": 5,
   "metadata": {},
   "outputs": [],
   "source": [
    "def reverse_string(string):\n",
    "    return string[::-1]"
   ]
  },
  {
   "cell_type": "code",
   "execution_count": 6,
   "metadata": {},
   "outputs": [
    {
     "data": {
      "text/plain": [
       "'Day three challenge'"
      ]
     },
     "execution_count": 6,
     "metadata": {},
     "output_type": "execute_result"
    }
   ],
   "source": [
    "reverse_string('egnellahc eerht yaD')"
   ]
  },
  {
   "cell_type": "markdown",
   "metadata": {},
   "source": [
    "## Day 4 challenge\n",
    "\n",
    "Create function gerund_infinitive which returns the infinitive to the given verb with the prefix 'to' e.g. doing-> to do, if the word does not end with ing return ' it is not a verb ' "
   ]
  },
  {
   "cell_type": "code",
   "execution_count": 7,
   "metadata": {},
   "outputs": [],
   "source": [
    "import nltk\n",
    "from nltk.stem import WordNetLemmatizer\n",
    "\n",
    "def gerund_infinitive(verb):\n",
    "    \n",
    "    lemmatizer = WordNetLemmatizer()\n",
    "    return 'to ' + lemmatizer.lemmatize(verb, 'v')\n"
   ]
  },
  {
   "cell_type": "code",
   "execution_count": 8,
   "metadata": {
    "scrolled": false
   },
   "outputs": [
    {
     "name": "stdout",
     "output_type": "stream",
     "text": [
      "to smile\n",
      "to run\n",
      "to sleep\n",
      "to lie\n"
     ]
    }
   ],
   "source": [
    "test_list = ['smiling', 'running', 'sleeping', 'lying']\n",
    "\n",
    "for test_verb in test_list:\n",
    "    print(gerund_infinitive(test_verb))"
   ]
  },
  {
   "cell_type": "markdown",
   "metadata": {},
   "source": [
    "## Day five and six were the weekend no challenge for these days :)"
   ]
  },
  {
   "cell_type": "markdown",
   "metadata": {},
   "source": [
    "## Day 7 challenge\n",
    "\n",
    "Create function capital_index() which takes a string as an argument. Your function should return a list of indexes in this string that are capitalized. "
   ]
  },
  {
   "cell_type": "code",
   "execution_count": 9,
   "metadata": {},
   "outputs": [],
   "source": [
    "def capital_index(string):\n",
    "    return [index for index, char in enumerate(string) if char in 'ABCDEFGHIJKLMNOPQRSTUVWXYZ']\n",
    "    "
   ]
  },
  {
   "cell_type": "code",
   "execution_count": 10,
   "metadata": {},
   "outputs": [
    {
     "data": {
      "text/plain": [
       "[0, 4]"
      ]
     },
     "execution_count": 10,
     "metadata": {},
     "output_type": "execute_result"
    }
   ],
   "source": [
    "capital_index('The Example')"
   ]
  },
  {
   "cell_type": "markdown",
   "metadata": {},
   "source": [
    "## Day 8 challenge\n",
    "\n",
    "Create a *womensday* function which asks user for their name and if it ends with 'a' it will return best whishes "
   ]
  },
  {
   "cell_type": "code",
   "execution_count": 11,
   "metadata": {},
   "outputs": [],
   "source": [
    "def womensday():\n",
    "    mens_name = ['Atylla', 'Barnaba', 'Bogowidza', 'Bonawentura', \n",
    "                 'Boruta', 'Brzezdoma', 'Dyzma', 'Jarema', 'Kosma',\n",
    "                 'Kuba', 'Lasota', 'Mustafa', 'Niedoma', 'Niegodoma', \n",
    "                 'Niemsta', 'Niepełka', 'Niewsza', 'Przezdoma', 'Rokita', \n",
    "                 'Zawisza', 'Żegota']\n",
    "    \n",
    "    name = input('Enter your name: ')\n",
    "    \n",
    "    if name[-1] == 'a' and name not in mens_name:\n",
    "        return 'Wszystkiego najlepszego!'\n",
    "    else:\n",
    "        return 'Kup kwiaty na dzień kobiet!'"
   ]
  },
  {
   "cell_type": "code",
   "execution_count": 12,
   "metadata": {},
   "outputs": [
    {
     "name": "stdout",
     "output_type": "stream",
     "text": [
      "Enter your name: Patrycja\n"
     ]
    },
    {
     "data": {
      "text/plain": [
       "'Wszystkiego najlepszego!'"
      ]
     },
     "execution_count": 12,
     "metadata": {},
     "output_type": "execute_result"
    }
   ],
   "source": [
    "womensday()"
   ]
  },
  {
   "cell_type": "markdown",
   "metadata": {},
   "source": [
    "## Day 9 challenge\n",
    "\n",
    "Create a function *mid* which takes a string and returns its middle element. If lenght of string is even return \"\""
   ]
  },
  {
   "cell_type": "code",
   "execution_count": 13,
   "metadata": {},
   "outputs": [],
   "source": [
    "def mid(word):\n",
    "    if isinstance(word, str):\n",
    "        if len(word) % 2 == 0:\n",
    "            return \"\"\n",
    "        else:\n",
    "            return word[len(word)//2]\n",
    "    else:\n",
    "        return 'This is not a string!'"
   ]
  },
  {
   "cell_type": "code",
   "execution_count": 14,
   "metadata": {},
   "outputs": [
    {
     "name": "stdout",
     "output_type": "stream",
     "text": [
      "\n",
      "3\n",
      "This is not a string!\n"
     ]
    }
   ],
   "source": [
    "test_list = ['1234', '12345', 1234]\n",
    "\n",
    "for element in test_list:\n",
    "    print(mid(element))"
   ]
  },
  {
   "cell_type": "markdown",
   "metadata": {},
   "source": [
    "## Day 11 challenge\n",
    "\n",
    "Two strings of characters are anagrams if you can make one of them rearranging only the letters of the other. Write a function called is_anagram that takes two strings as parameters. Your function should return True if the strings are anagrams and False otherwise. "
   ]
  },
  {
   "cell_type": "code",
   "execution_count": 15,
   "metadata": {},
   "outputs": [],
   "source": [
    "def is_anagram(word1,word2):\n",
    "    if sorted(word1.lower())==sorted(word2.lower()):\n",
    "        return True\n",
    "    else:\n",
    "        return False"
   ]
  },
  {
   "cell_type": "code",
   "execution_count": 16,
   "metadata": {},
   "outputs": [],
   "source": [
    "assert is_anagram('ABC','cba') == True\n",
    "assert is_anagram('NIGHT','DAY') == False"
   ]
  },
  {
   "cell_type": "markdown",
   "metadata": {},
   "source": [
    "## Day 12 challenge\n",
    "Given a list and a number, create a new list that contains each number of lst at most N times without reordering. For example if the input number is 2, and the input list is [1,2,3,1,2,1,2,3], you take [1,2,3,1,2], drop the next [1,2] since this would lead to 1 and 2 being in the result 3 times, and then take 3, which leads to [1,2,3,1,2,3]. With list [20,37,20,21] and number 1, the result would be [20,37,20,21].\n",
    "\n",
    "### This task is from codewars"
   ]
  },
  {
   "cell_type": "code",
   "execution_count": 17,
   "metadata": {},
   "outputs": [],
   "source": [
    "def delete_nth(order,max_e):\n",
    "    output_list=[]\n",
    "    \n",
    "    for element in order:\n",
    "        if output_list.count(element)<max_e:\n",
    "            output_list.append(element)\n",
    "            \n",
    "    return output_list"
   ]
  },
  {
   "cell_type": "code",
   "execution_count": 18,
   "metadata": {},
   "outputs": [],
   "source": [
    "assert(delete_nth([20,37,20,21], 1) == [20,37,21])\n",
    "assert(delete_nth([1,1,3,3,7,2,2,2,2], 3) == [1, 1, 3, 3, 7, 2, 2, 2])"
   ]
  },
  {
   "cell_type": "markdown",
   "metadata": {},
   "source": [
    "## Day 14 challenge\n",
    "\n",
    "Define a function named largest_difference that takes the only parameter list of numbers. Your function should calculate and return the difference between the highest-lowest number in the list. "
   ]
  },
  {
   "cell_type": "code",
   "execution_count": 19,
   "metadata": {},
   "outputs": [
    {
     "data": {
      "text/plain": [
       "13"
      ]
     },
     "execution_count": 19,
     "metadata": {},
     "output_type": "execute_result"
    }
   ],
   "source": [
    "def largest_difference(number_list):\n",
    "    return max(number_list)-min(number_list)\n",
    "\n",
    "largest_difference([1,2,3,-10])"
   ]
  },
  {
   "cell_type": "markdown",
   "metadata": {},
   "source": [
    "## Day 15 challenge\n",
    "\n",
    "Write a function called add_dots that takes a string and adds '.' between each letter. For example, calling add_dots ('test') should return 't.e.s.t' "
   ]
  },
  {
   "cell_type": "code",
   "execution_count": 20,
   "metadata": {},
   "outputs": [
    {
     "data": {
      "text/plain": [
       "'t.e.s.t'"
      ]
     },
     "execution_count": 20,
     "metadata": {},
     "output_type": "execute_result"
    }
   ],
   "source": [
    "def add_dots(word):\n",
    "    return '.'.join(word)\n",
    "\n",
    "add_dots('test')"
   ]
  },
  {
   "cell_type": "markdown",
   "metadata": {},
   "source": [
    "## Day 16 challenge\n",
    "\n",
    "Create a fuction **is_palindrome()** which checks if string is a palindrome."
   ]
  },
  {
   "cell_type": "code",
   "execution_count": 21,
   "metadata": {},
   "outputs": [],
   "source": [
    "def is_palindrome(word):\n",
    "    return str(word).lower() == str(word).lower()[::-1]"
   ]
  },
  {
   "cell_type": "code",
   "execution_count": 22,
   "metadata": {},
   "outputs": [],
   "source": [
    "assert is_palindrome(121)==True\n",
    "assert is_palindrome('Kajak')==True\n",
    "assert is_palindrome('test')==False"
   ]
  },
  {
   "cell_type": "markdown",
   "metadata": {},
   "source": [
    "## Day 17 challenge\n",
    "\n",
    "Define the **calculate_factorial()** function that calculates the factorial for the user-supplied number (which is a non-negative integer). "
   ]
  },
  {
   "cell_type": "code",
   "execution_count": 24,
   "metadata": {},
   "outputs": [],
   "source": [
    "import numpy as np\n",
    "\n",
    "\n",
    "def calculate_factorial():\n",
    "    while True:\n",
    "        try: \n",
    "            number = int(input('enter non-negative integer: '))\n",
    "            break\n",
    "        except ValueError:\n",
    "            print('That was no valid number, try again: ')\n",
    "    \n",
    "    if number<0 or int(number) != number:\n",
    "        return \"This function doesn't work with negative numbers and floating point numbers.\"\n",
    "    if number==0:\n",
    "        return 1\n",
    "    else:\n",
    "        return np.prod([num for num in range(1,number + 1)])\n"
   ]
  },
  {
   "cell_type": "code",
   "execution_count": 25,
   "metadata": {},
   "outputs": [
    {
     "name": "stdout",
     "output_type": "stream",
     "text": [
      "enter non-negative integer: 7\n"
     ]
    },
    {
     "data": {
      "text/plain": [
       "5040"
      ]
     },
     "execution_count": 25,
     "metadata": {},
     "output_type": "execute_result"
    }
   ],
   "source": [
    "calculate_factorial()"
   ]
  },
  {
   "cell_type": "markdown",
   "metadata": {},
   "source": [
    "## day 18 challenge\n",
    "\n",
    "Define an all_equal function that takes a list and checks that all items in the list are the same. "
   ]
  },
  {
   "cell_type": "code",
   "execution_count": 27,
   "metadata": {},
   "outputs": [],
   "source": [
    "#solution using set\n",
    "def all_equal(my_list):\n",
    "    return len(set(my_list)) == 1"
   ]
  },
  {
   "cell_type": "code",
   "execution_count": 32,
   "metadata": {},
   "outputs": [],
   "source": [
    "assert all_equal([1,1,1])==True\n",
    "assert all_equal(['a','b','c'])==False\n",
    "assert all_equal([1,'1',1])==False\n",
    "assert all_equal(['a','a','a'])==True"
   ]
  },
  {
   "cell_type": "code",
   "execution_count": 3,
   "metadata": {},
   "outputs": [],
   "source": [
    "#solution using  list comprehension\n",
    "def all_equal2(my_list):\n",
    "    return all([num==my_list[0] for num in my_list])"
   ]
  },
  {
   "cell_type": "code",
   "execution_count": 4,
   "metadata": {},
   "outputs": [],
   "source": [
    "assert all_equal2([1,1,1])==True\n",
    "assert all_equal2(['a','b','c'])==False\n",
    "assert all_equal2([1,'1',1])==False\n",
    "assert all_equal2(['a','a','a'])==True"
   ]
  },
  {
   "cell_type": "markdown",
   "metadata": {},
   "source": [
    "## Day 19 challenge\n",
    "\n",
    "### challenge from codewars (saturday)\n",
    "Codewars Bar recommends you drink 1 glass of water per standard drink so you're not hungover tomorrow morning.\n",
    "Your fellow coders have bought you several drinks tonight in the form of a string. Return a string suggesting how many glasses of water you should drink to not be hungover."
   ]
  },
  {
   "cell_type": "code",
   "execution_count": 1,
   "metadata": {},
   "outputs": [],
   "source": [
    "def hydrate(drink_string): \n",
    "    drink_sum = sum([int(num) for num in drink_string if num.isdigit()])\n",
    "    \n",
    "    if drink_sum == 1:\n",
    "        return '1 glass of water'\n",
    "    return str(drink_sum) + ' glasses of water'"
   ]
  },
  {
   "cell_type": "code",
   "execution_count": 2,
   "metadata": {},
   "outputs": [],
   "source": [
    "assert(hydrate(\"1 beer\") == \"1 glass of water\")\n",
    "assert(hydrate(\"1 shot, 5 beers, 2 shots, 1 glass of wine, 1 beer\") == \"10 glasses of water\")"
   ]
  },
  {
   "cell_type": "markdown",
   "metadata": {},
   "source": [
    "## Day 20 challenge\n",
    "\n",
    "### challenge from codewars (sunday)\n",
    "\n",
    "Given two numbers m and n, such that 0 ≤ m ≤ n :\n",
    "\n",
    "-convert all numbers from m to n (inclusive) to binary\n",
    "-sum them as if they were in base 10\n",
    "-convert the result to binary\n",
    "-return as a string"
   ]
  },
  {
   "cell_type": "code",
   "execution_count": 1,
   "metadata": {},
   "outputs": [],
   "source": [
    "def binary_pyramid(m,n):\n",
    "    return bin(sum([int(bin(num)[2:]) for num in range(m,n+1)]))[2:]"
   ]
  },
  {
   "cell_type": "code",
   "execution_count": 2,
   "metadata": {},
   "outputs": [],
   "source": [
    "assert(binary_pyramid(1,4) == \"1111010\")\n",
    "assert(binary_pyramid(1,6) == \"101001101\")\n",
    "assert(binary_pyramid(6,20) == \"1110010110100011\")\n",
    "assert(binary_pyramid(21,60) == \"1100000100010001010100\")"
   ]
  },
  {
   "cell_type": "markdown",
   "metadata": {},
   "source": [
    "## Day 21 challenge\n",
    "\n",
    "Write a program **move_zero()** that pushes zeros to the end of the list. "
   ]
  },
  {
   "cell_type": "code",
   "execution_count": 16,
   "metadata": {},
   "outputs": [],
   "source": [
    "def move_zero(my_list):\n",
    "    return [element for element in my_list if element!=0] + [0]*my_list.count(0)\n",
    "        "
   ]
  },
  {
   "cell_type": "code",
   "execution_count": 18,
   "metadata": {},
   "outputs": [
    {
     "data": {
      "text/plain": [
       "[1, 1, 1, 0, 0, 0]"
      ]
     },
     "execution_count": 18,
     "metadata": {},
     "output_type": "execute_result"
    }
   ],
   "source": [
    "move_zero([0,1,0,1,0,1])"
   ]
  }
 ],
 "metadata": {
  "kernelspec": {
   "display_name": "Python 3",
   "language": "python",
   "name": "python3"
  },
  "language_info": {
   "codemirror_mode": {
    "name": "ipython",
    "version": 3
   },
   "file_extension": ".py",
   "mimetype": "text/x-python",
   "name": "python",
   "nbconvert_exporter": "python",
   "pygments_lexer": "ipython3",
   "version": "3.8.3"
  }
 },
 "nbformat": 4,
 "nbformat_minor": 4
}
