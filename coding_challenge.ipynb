{
 "cells": [
  {
   "cell_type": "markdown",
   "metadata": {},
   "source": [
    "## Day one challenge\n",
    "\n",
    "The challenge for day one was to create function lowercase. I decided to try to create it myself instead of using built-in lower() function."
   ]
  },
  {
   "cell_type": "code",
   "execution_count": 2,
   "metadata": {},
   "outputs": [],
   "source": [
    "import string\n",
    "alpha_lower = string.ascii_lowercase\n",
    "alpha_upper = string.ascii_uppercase\n",
    "\n",
    "\n",
    "def lower_case(word):\n",
    "    \n",
    "    alph={upper:lower for upper, lower in zip(alpha_upper,alpha_lower)}\n",
    "    lower_list = [alph[char] if char in alph.keys() else char for char in word]\n",
    "    \n",
    "    return ''.join(lower_list)"
   ]
  },
  {
   "cell_type": "code",
   "execution_count": 2,
   "metadata": {},
   "outputs": [
    {
     "data": {
      "text/plain": [
       "'zadanie'"
      ]
     },
     "execution_count": 2,
     "metadata": {},
     "output_type": "execute_result"
    }
   ],
   "source": [
    "lower_case('ZADANIE')"
   ]
  },
  {
   "cell_type": "markdown",
   "metadata": {},
   "source": [
    "## Day two challenge\n",
    "The challenge was to define function switch_case which changes lower case to upper and upper case to lower in string."
   ]
  },
  {
   "cell_type": "code",
   "execution_count": 32,
   "metadata": {},
   "outputs": [],
   "source": [
    "import string\n",
    "\n",
    "\n",
    "def switch_case(word):\n",
    "    \n",
    "    alpha = string.ascii_letters\n",
    "    changed_word=''\n",
    "    \n",
    "    for char in word:\n",
    "        \n",
    "        if char not in alpha:\n",
    "            changed_word += char\n",
    "        elif alpha.index(char) < 26:\n",
    "            changed_word += alpha[alpha.index(char)+26]\n",
    "        else:\n",
    "            changed_word += alpha[alpha.index(char)-26]\n",
    "    \n",
    "    return changed_word\n",
    "            "
   ]
  },
  {
   "cell_type": "code",
   "execution_count": 33,
   "metadata": {},
   "outputs": [
    {
     "data": {
      "text/plain": [
       "'This is VIP only!'"
      ]
     },
     "execution_count": 33,
     "metadata": {},
     "output_type": "execute_result"
    }
   ],
   "source": [
    "switch_case('tHIS IS vip ONLY!')"
   ]
  },
  {
   "cell_type": "code",
   "execution_count": null,
   "metadata": {},
   "outputs": [],
   "source": []
  }
 ],
 "metadata": {
  "kernelspec": {
   "display_name": "Python 3",
   "language": "python",
   "name": "python3"
  },
  "language_info": {
   "codemirror_mode": {
    "name": "ipython",
    "version": 3
   },
   "file_extension": ".py",
   "mimetype": "text/x-python",
   "name": "python",
   "nbconvert_exporter": "python",
   "pygments_lexer": "ipython3",
   "version": "3.8.3"
  }
 },
 "nbformat": 4,
 "nbformat_minor": 4
}
