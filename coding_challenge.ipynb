{
 "cells": [
  {
   "cell_type": "markdown",
   "metadata": {},
   "source": [
    "## Day one challenge\n",
    "\n",
    "The challenge for day one was to create function lowercase. I decided to create it myself instead of using built-in lower() function."
   ]
  },
  {
   "cell_type": "code",
   "execution_count": 1,
   "metadata": {},
   "outputs": [],
   "source": [
    "import string\n",
    "alpha_lower = string.ascii_lowercase\n",
    "alpha_upper = string.ascii_uppercase\n",
    "\n",
    "\n",
    "def lower_case(word):\n",
    "    \n",
    "    alph={upper:lower for upper, lower in zip(alpha_upper,alpha_lower)}\n",
    "    lower_list = [alph[char] if char in alph.keys() else char for char in word]\n",
    "    \n",
    "    return ''.join(lower_list)"
   ]
  },
  {
   "cell_type": "code",
   "execution_count": 2,
   "metadata": {},
   "outputs": [
    {
     "data": {
      "text/plain": [
       "'zadanie'"
      ]
     },
     "execution_count": 2,
     "metadata": {},
     "output_type": "execute_result"
    }
   ],
   "source": [
    "lower_case('ZADANIE')"
   ]
  }
 ],
 "metadata": {
  "kernelspec": {
   "display_name": "Python 3",
   "language": "python",
   "name": "python3"
  },
  "language_info": {
   "codemirror_mode": {
    "name": "ipython",
    "version": 3
   },
   "file_extension": ".py",
   "mimetype": "text/x-python",
   "name": "python",
   "nbconvert_exporter": "python",
   "pygments_lexer": "ipython3",
   "version": "3.8.3"
  }
 },
 "nbformat": 4,
 "nbformat_minor": 4
}
