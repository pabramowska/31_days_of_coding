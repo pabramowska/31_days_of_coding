{
 "cells": [
  {
   "cell_type": "markdown",
   "metadata": {},
   "source": [
    "## Day one challenge\n",
    "\n",
    "The challenge for day one was to create function lowercase. I decided to try to create it myself instead of using built-in lower() function."
   ]
  },
  {
   "cell_type": "code",
   "execution_count": 1,
   "metadata": {},
   "outputs": [],
   "source": [
    "import string\n",
    "alpha_lower = string.ascii_lowercase\n",
    "alpha_upper = string.ascii_uppercase\n",
    "\n",
    "\n",
    "def lower_case(word):\n",
    "    \n",
    "    alph={upper:lower for upper, lower in zip(alpha_upper,alpha_lower)}\n",
    "    lower_list = [alph[char] if char in alph.keys() else char for char in word]\n",
    "    \n",
    "    return ''.join(lower_list)"
   ]
  },
  {
   "cell_type": "code",
   "execution_count": 2,
   "metadata": {},
   "outputs": [
    {
     "data": {
      "text/plain": [
       "'zadanie'"
      ]
     },
     "execution_count": 2,
     "metadata": {},
     "output_type": "execute_result"
    }
   ],
   "source": [
    "lower_case('ZADANIE')"
   ]
  },
  {
   "cell_type": "markdown",
   "metadata": {},
   "source": [
    "## Day two challenge\n",
    "The challenge was to define function switch_case which changes lower case to upper and upper case to lower in string."
   ]
  },
  {
   "cell_type": "code",
   "execution_count": 3,
   "metadata": {},
   "outputs": [],
   "source": [
    "import string\n",
    "\n",
    "\n",
    "def switch_case(word):\n",
    "    \n",
    "    alpha = string.ascii_letters\n",
    "    changed_word=''\n",
    "    \n",
    "    for char in word:\n",
    "        \n",
    "        if char not in alpha:\n",
    "            changed_word += char\n",
    "        elif alpha.index(char) < 26:\n",
    "            changed_word += alpha[alpha.index(char)+26]\n",
    "        else:\n",
    "            changed_word += alpha[alpha.index(char)-26]\n",
    "    \n",
    "    return changed_word\n",
    "            "
   ]
  },
  {
   "cell_type": "code",
   "execution_count": 4,
   "metadata": {},
   "outputs": [
    {
     "data": {
      "text/plain": [
       "'This is VIP only!'"
      ]
     },
     "execution_count": 4,
     "metadata": {},
     "output_type": "execute_result"
    }
   ],
   "source": [
    "switch_case('tHIS IS vip ONLY!')"
   ]
  },
  {
   "cell_type": "markdown",
   "metadata": {},
   "source": [
    "## Day three challenge\n",
    "\n",
    "Today challenge was to create function reverse_string() which will return reversed string."
   ]
  },
  {
   "cell_type": "code",
   "execution_count": 5,
   "metadata": {},
   "outputs": [],
   "source": [
    "def reverse_string(string):\n",
    "    return string[::-1]"
   ]
  },
  {
   "cell_type": "code",
   "execution_count": 6,
   "metadata": {},
   "outputs": [
    {
     "data": {
      "text/plain": [
       "'Day three challenge'"
      ]
     },
     "execution_count": 6,
     "metadata": {},
     "output_type": "execute_result"
    }
   ],
   "source": [
    "reverse_string('egnellahc eerht yaD')"
   ]
  },
  {
   "cell_type": "markdown",
   "metadata": {},
   "source": [
    "## Day four challenge\n",
    "Create function gerund_infinitive which returns the infinitive to the given verb with the prefix 'to' e.g. doing-> to do, if the word does not end with ing return ' it is not a verb ' "
   ]
  },
  {
   "cell_type": "code",
   "execution_count": 7,
   "metadata": {},
   "outputs": [],
   "source": [
    "import nltk\n",
    "from nltk.stem import WordNetLemmatizer\n",
    "\n",
    "def gerund_infinitive(verb):\n",
    "    \n",
    "    lemmatizer = WordNetLemmatizer()\n",
    "    return 'to ' + lemmatizer.lemmatize(verb, 'v')\n"
   ]
  },
  {
   "cell_type": "code",
   "execution_count": 8,
   "metadata": {
    "scrolled": false
   },
   "outputs": [
    {
     "name": "stdout",
     "output_type": "stream",
     "text": [
      "to smile\n",
      "to run\n",
      "to sleep\n",
      "to lie\n"
     ]
    }
   ],
   "source": [
    "test_list = ['smiling', 'running', 'sleeping', 'lying']\n",
    "\n",
    "for test_verb in test_list:\n",
    "    print(gerund_infinitive(test_verb))"
   ]
  },
  {
   "cell_type": "markdown",
   "metadata": {},
   "source": [
    "## Day five and six was the weekend no challenge for these days :)"
   ]
  },
  {
   "cell_type": "markdown",
   "metadata": {},
   "source": [
    "## Day seven\n",
    "\n",
    "Create function capital_index() which takes a string as an argument. Your function should return a list of indexes in this string that are capitalized. "
   ]
  },
  {
   "cell_type": "code",
   "execution_count": 9,
   "metadata": {},
   "outputs": [],
   "source": [
    "def capital_index(string):\n",
    "    return [index for index, char in enumerate(string) if char in 'ABCDEFGHIJKLMNOPQRSTUVWXYZ']\n",
    "    "
   ]
  },
  {
   "cell_type": "code",
   "execution_count": 10,
   "metadata": {},
   "outputs": [
    {
     "data": {
      "text/plain": [
       "[0, 4]"
      ]
     },
     "execution_count": 10,
     "metadata": {},
     "output_type": "execute_result"
    }
   ],
   "source": [
    "capital_index('The Example')"
   ]
  },
  {
   "cell_type": "markdown",
   "metadata": {},
   "source": [
    "## Day eight\n",
    "\n",
    "Create a *womensday* function which asks user for their name and if it ends with 'a' it will return best whishes "
   ]
  },
  {
   "cell_type": "code",
   "execution_count": 11,
   "metadata": {},
   "outputs": [],
   "source": [
    "def womensday():\n",
    "    mens_name = ['Atylla', 'Barnaba', 'Bogowidza', 'Bonawentura', \n",
    "                 'Boruta', 'Brzezdoma', 'Dyzma', 'Jarema', 'Kosma',\n",
    "                 'Kuba', 'Lasota', 'Mustafa', 'Niedoma', 'Niegodoma', \n",
    "                 'Niemsta', 'Niepełka', 'Niewsza', 'Przezdoma', 'Rokita', \n",
    "                 'Zawisza', 'Żegota']\n",
    "    \n",
    "    name = input('Enter your name: ')\n",
    "    \n",
    "    if name[-1] == 'a' and name not in mens_name:\n",
    "        return 'Wszystkiego najlepszego!'\n",
    "    else:\n",
    "        return 'Kup kwiaty na dzień kobiet!'"
   ]
  },
  {
   "cell_type": "code",
   "execution_count": 12,
   "metadata": {},
   "outputs": [
    {
     "name": "stdout",
     "output_type": "stream",
     "text": [
      "Enter your name: Patrycja\n"
     ]
    },
    {
     "data": {
      "text/plain": [
       "'Wszystkiego najlepszego!'"
      ]
     },
     "execution_count": 12,
     "metadata": {},
     "output_type": "execute_result"
    }
   ],
   "source": [
    "womensday()"
   ]
  }
 ],
 "metadata": {
  "kernelspec": {
   "display_name": "Python 3",
   "language": "python",
   "name": "python3"
  },
  "language_info": {
   "codemirror_mode": {
    "name": "ipython",
    "version": 3
   },
   "file_extension": ".py",
   "mimetype": "text/x-python",
   "name": "python",
   "nbconvert_exporter": "python",
   "pygments_lexer": "ipython3",
   "version": "3.8.3"
  }
 },
 "nbformat": 4,
 "nbformat_minor": 4
}
